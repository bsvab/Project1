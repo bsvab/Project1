{
 "cells": [
  {
   "cell_type": "markdown",
   "metadata": {},
   "source": [
    "# Analysis & Visualization of Produced Water Chemistry for Environmental & Agricultural Utilization"
   ]
  },
  {
   "cell_type": "markdown",
   "metadata": {},
   "source": [
    "## SETUP"
   ]
  },
  {
   "cell_type": "code",
   "execution_count": 1,
   "metadata": {},
   "outputs": [
    {
     "name": "stdout",
     "output_type": "stream",
     "text": [
      "Collecting wqchartpy\n",
      "  Downloading wqchartpy-0.1.9.tar.gz (21.7 MB)\n",
      "     ---------------------------------------- 0.0/21.7 MB ? eta -:--:--\n",
      "     ---------------------------------------- 0.0/21.7 MB ? eta -:--:--\n",
      "     --------------------------------------- 0.1/21.7 MB 656.4 kB/s eta 0:00:33\n",
      "     ---------------------------------------- 0.2/21.7 MB 1.3 MB/s eta 0:00:17\n",
      "     - -------------------------------------- 0.7/21.7 MB 3.7 MB/s eta 0:00:06\n",
      "     -- ------------------------------------- 1.4/21.7 MB 6.0 MB/s eta 0:00:04\n",
      "     ----- ---------------------------------- 3.0/21.7 MB 10.5 MB/s eta 0:00:02\n",
      "     ---------- ----------------------------- 5.5/21.7 MB 16.7 MB/s eta 0:00:01\n",
      "     -------------- ------------------------- 7.8/21.7 MB 20.7 MB/s eta 0:00:01\n",
      "     ------------------- ------------------- 10.8/21.7 MB 40.9 MB/s eta 0:00:01\n",
      "     ----------------------- --------------- 13.3/21.7 MB 54.7 MB/s eta 0:00:01\n",
      "     ----------------------------- --------- 16.1/21.7 MB 54.7 MB/s eta 0:00:01\n",
      "     ---------------------------------- ---- 19.2/21.7 MB 59.5 MB/s eta 0:00:01\n",
      "     --------------------------------------  21.7/21.7 MB 54.4 MB/s eta 0:00:01\n",
      "     --------------------------------------- 21.7/21.7 MB 46.7 MB/s eta 0:00:00\n",
      "  Installing build dependencies: started\n",
      "  Installing build dependencies: finished with status 'done'\n",
      "  Getting requirements to build wheel: started\n",
      "  Getting requirements to build wheel: finished with status 'error'\n"
     ]
    },
    {
     "name": "stderr",
     "output_type": "stream",
     "text": [
      "  error: subprocess-exited-with-error\n",
      "  \n",
      "  × Getting requirements to build wheel did not run successfully.\n",
      "  │ exit code: 1\n",
      "  ╰─> [3 lines of output]\n",
      "      error in wqchartpy setup command: 'install_requires' must be a string or list of strings containing valid project/version requirement specifiers; Expected end or semicolon (after version specifier)\n",
      "          matplotlib>=3.3.4scipy>=1.6.2\n",
      "                    ~~~~~~~^\n",
      "      [end of output]\n",
      "  \n",
      "  note: This error originates from a subprocess, and is likely not a problem with pip.\n",
      "error: subprocess-exited-with-error\n",
      "\n",
      "× Getting requirements to build wheel did not run successfully.\n",
      "│ exit code: 1\n",
      "╰─> See above for output.\n",
      "\n",
      "note: This error originates from a subprocess, and is likely not a problem with pip.\n",
      "\n",
      "[notice] A new release of pip is available: 23.2.1 -> 23.3.1\n",
      "[notice] To update, run: C:\\Users\\ajuar\\AppData\\Local\\Microsoft\\WindowsApps\\PythonSoftwareFoundation.Python.3.11_qbz5n2kfra8p0\\python.exe -m pip install --upgrade pip\n"
     ]
    }
   ],
   "source": [
    "# we will all probably need to do this first, so putting this temporary code cell here as a reminder\n",
    "# once everyone has it installed, this cell should be deleted\n",
    "!pip install wqchartpy\n",
    "# if pip install doesn't work for you, go to https://github.com/jyangfsu/WQChartPy/tree/main and follow the \"another way\" instructions\n",
    "# if you had to use the \"another way\" method, you will have to restart your kernal after finishing the install in order for the import to work"
   ]
  },
  {
   "cell_type": "code",
   "execution_count": 1,
   "metadata": {},
   "outputs": [],
   "source": [
    "# Dependencies\n",
    "import os\n",
    "import pandas as pd\n",
    "import matplotlib.pyplot as plt\n",
    "import scipy.stats as st\n",
    "import numpy as np\n",
    "import sklearn\n",
    "import wqchartpy"
   ]
  },
  {
   "cell_type": "markdown",
   "metadata": {},
   "source": [
    "## DATA CLEANING & FILTERING"
   ]
  },
  {
   "cell_type": "code",
   "execution_count": null,
   "metadata": {},
   "outputs": [],
   "source": []
  },
  {
   "cell_type": "markdown",
   "metadata": {},
   "source": [
    "## ANALYSIS "
   ]
  },
  {
   "cell_type": "code",
   "execution_count": null,
   "metadata": {},
   "outputs": [],
   "source": []
  },
  {
   "cell_type": "markdown",
   "metadata": {},
   "source": [
    "## VISUALIZATION"
   ]
  },
  {
   "cell_type": "code",
   "execution_count": null,
   "metadata": {},
   "outputs": [],
   "source": []
  }
 ],
 "metadata": {
  "kernelspec": {
   "display_name": "base",
   "language": "python",
   "name": "python3"
  },
  "language_info": {
   "codemirror_mode": {
    "name": "ipython",
    "version": 3
   },
   "file_extension": ".py",
   "mimetype": "text/x-python",
   "name": "python",
   "nbconvert_exporter": "python",
   "pygments_lexer": "ipython3",
   "version": "3.11.6"
  }
 },
 "nbformat": 4,
 "nbformat_minor": 2
}
