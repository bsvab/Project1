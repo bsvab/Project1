{
 "cells": [
  {
   "cell_type": "markdown",
   "metadata": {},
   "source": [
    "# Analysis & Visualization of Produced Water Chemistry for Environmental & Agricultural Utilization"
   ]
  },
  {
   "cell_type": "markdown",
   "metadata": {},
   "source": [
    "## SETUP"
   ]
  },
  {
   "cell_type": "code",
   "execution_count": null,
   "metadata": {},
   "outputs": [],
   "source": [
    "# we will all probably need to do this first, so putting this temporary code cell here as a reminder\n",
    "# once everyone has it installed, this cell should be deleted\n",
    "!pip install wqchartpy\n",
    "# if pip install doesn't work for you, go to https://github.com/jyangfsu/WQChartPy/tree/main and follow the \"another way\" instructions\n",
    "# if you had to use the \"another way\" method, you will have to restart your kernal after finishing the install in order for the import to work\n",
    "#This is my test2"
   ]
  },
  {
   "cell_type": "code",
   "execution_count": 1,
   "metadata": {},
   "outputs": [],
   "source": [
    "# Dependencies\n",
    "import os\n",
    "import pandas as pd\n",
    "import matplotlib.pyplot as plt\n",
    "import scipy.stats as st\n",
    "import numpy as np\n",
    "import sklearn\n",
    "from wqchartpy import triangle_piper"
   ]
  },
  {
   "cell_type": "markdown",
   "metadata": {},
   "source": [
    "## DATA CLEANING & FILTERING"
   ]
  },
  {
   "cell_type": "code",
   "execution_count": null,
   "metadata": {},
   "outputs": [],
   "source": []
  },
  {
   "cell_type": "markdown",
   "metadata": {},
   "source": [
    "## ANALYSIS "
   ]
  },
  {
   "cell_type": "code",
   "execution_count": null,
   "metadata": {},
   "outputs": [],
   "source": []
  },
  {
   "cell_type": "markdown",
   "metadata": {},
   "source": [
    "## VISUALIZATION"
   ]
  },
  {
   "cell_type": "code",
   "execution_count": null,
   "metadata": {},
   "outputs": [],
   "source": [
    "# ////////// THIS SECTION OF CODE IS TEMPORARY\n",
    "data_path = os.path.join('data','playground.csv')\n",
    "\n",
    "df_data = pd.read_csv(data_path,delimiter=',')\n",
    "df_data.head(2)\n",
    "# \\\\\\\\\\\\\\\\\\\\ THIS SECTION OF CODE IS TEMPORARY"
   ]
  },
  {
   "cell_type": "code",
   "execution_count": null,
   "metadata": {},
   "outputs": [],
   "source": [
    "# Because wqchartpy automatically generates the chart image files within the main directory as part of the library code, the following function is needed to push \n",
    "#       them to our images folder as they're generated. A function was created since this will be used repeatedly.\n",
    "\n",
    "def move_wqchartpy_image_file_to_images_folder(image_file_name, image_folder_name):\n",
    "    current_directory = os.getcwd()\n",
    "    current_file_path = os.path.join(current_directory, image_file_name)\n",
    "    image_folder_path = os.path.join(current_directory, image_folder_name)\n",
    "    new_file_path = os.path.join(image_folder_path, image_file_name)\n",
    "\n",
    "    # Check if the images folder exists; if not, it gets created\n",
    "    if not os.path.exists(image_folder_path):\n",
    "        os.makedirs(image_folder_path)\n",
    "\n",
    "    # Check if a file with the same name already exists in the destination folder; if so ask user what to do: override with or without deleting the newly generated image\n",
    "    if os.path.exists(new_file_path):\n",
    "        user_input = input(f'A file with the name {image_file_name} already exists in {image_folder_name}. Do you want to override it? (y/n): ').lower()\n",
    "        if user_input != 'y':\n",
    "            user_input = input(f'Do you want to delete the newly generated image file? (y/n): ').lower()\n",
    "            if user_input == 'y':\n",
    "                os.remove(current_file_path)\n",
    "                print('File deleted.')\n",
    "            else:\n",
    "                print(f'File not deleted. It is located in {current_directory}.')\n",
    "            print(f'File not moved to images folder. It is located in {current_directory}.')\n",
    "            return\n",
    "\n",
    "    # Move the file to the lower folder\n",
    "    new_file_path = os.path.join(image_folder_path, image_file_name)\n",
    "    os.rename(current_file_path, new_file_path)\n",
    "\n",
    "    print(f\"File '{image_file_name}' moved to '{image_folder_name}' folder.\")"
   ]
  },
  {
   "cell_type": "code",
   "execution_count": null,
   "metadata": {},
   "outputs": [],
   "source": [
    "image_name = 'Piper1'\n",
    "wq.triangle_piper.plot(df_data,unit='mg/L',figname=image_name,figformat='png')\n",
    "\n",
    "image_file_name = f'{image_name}.png'\n",
    "image_folder_name = 'images'\n",
    "move_wqchartpy_image_file_to_images_folder(image_file_name, image_folder_name)"
   ]
  },
  {
   "cell_type": "code",
   "execution_count": null,
   "metadata": {},
   "outputs": [],
   "source": []
  }
 ],
 "metadata": {
  "kernelspec": {
   "display_name": "base",
   "language": "python",
   "name": "python3"
  },
  "language_info": {
   "codemirror_mode": {
    "name": "ipython",
    "version": 3
   },
   "file_extension": ".py",
   "mimetype": "text/x-python",
   "name": "python",
   "nbconvert_exporter": "python",
   "pygments_lexer": "ipython3",
   "version": "3.11.5"
  }
 },
 "nbformat": 4,
 "nbformat_minor": 2
}
