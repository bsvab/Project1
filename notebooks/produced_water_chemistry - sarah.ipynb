{
 "cells": [
  {
   "cell_type": "markdown",
   "metadata": {},
   "source": [
    "# Analysis & Visualization of Produced Water Chemistry for Environmental & Agricultural Utilization"
   ]
  },
  {
   "cell_type": "markdown",
   "metadata": {},
   "source": [
    "## SETUP"
   ]
  },
  {
   "cell_type": "code",
   "execution_count": 1,
   "metadata": {},
   "outputs": [],
   "source": [
    "# we will all probably need to do this first, so putting this temporary code cell here as a reminder\n",
    "# once everyone has it installed, this cell should be deleted\n",
    "!pip install wqchartpy\n",
    "# if pip install doesn't work for you, go to https://github.com/jyangfsu/WQChartPy/tree/main and follow the \"another way\" instructions (I had to do it this way, so let me know if you need help - Brittany)\n",
    "# if you had to use the \"another way\" method, you will have to restart your kernal after finishing the install in order for the import to work"
   ]
  },
  {
   "cell_type": "code",
   "execution_count": 3,
   "metadata": {},
   "outputs": [],
   "source": [
    "# Dependencies\n",
    "import os\n",
    "import pandas as pd\n",
    "import matplotlib.pyplot as plt\n",
    "import scipy.stats as st\n",
    "import numpy as np\n",
    "import sklearn\n",
    "from wqchartpy import triangle_piper"
   ]
  },
  {
   "cell_type": "markdown",
   "metadata": {},
   "source": [
    "## DATA CLEANING & FILTERING"
   ]
  },
  {
   "cell_type": "markdown",
   "metadata": {},
   "source": [
    "### Read in CSV Files, Merge to Initial Raw DF"
   ]
  },
  {
   "cell_type": "code",
   "execution_count": null,
   "metadata": {},
   "outputs": [],
   "source": [
    "# Read in .csv files\n",
    "\n",
    "\n",
    "# Merge into single df_raw\n",
    "\n"
   ]
  },
  {
   "cell_type": "markdown",
   "metadata": {},
   "source": [
    "### Reduce Rows to Initial Clean DF"
   ]
  },
  {
   "cell_type": "code",
   "execution_count": null,
   "metadata": {},
   "outputs": [],
   "source": [
    "# Reduce rows to create df_clean\n"
   ]
  },
  {
   "cell_type": "markdown",
   "metadata": {},
   "source": [
    "### Reduce Columns to Initial Clean DF Simplified"
   ]
  },
  {
   "cell_type": "code",
   "execution_count": null,
   "metadata": {},
   "outputs": [],
   "source": [
    "# Reduce columns to create df_clean_simple\n"
   ]
  },
  {
   "cell_type": "markdown",
   "metadata": {},
   "source": [
    "## ANALYSIS "
   ]
  },
  {
   "cell_type": "code",
   "execution_count": null,
   "metadata": {},
   "outputs": [],
   "source": [
    "# If needed, divvy up a specialized version of the df_clean_simple for this portion of the analysis and give it a descriptive name\n",
    "\n",
    "\n",
    "# Do the analysis using either the modified df or the original df_clean_simple\n",
    "\n"
   ]
  },
  {
   "cell_type": "code",
   "execution_count": null,
   "metadata": {},
   "outputs": [],
   "source": []
  },
  {
   "cell_type": "markdown",
   "metadata": {},
   "source": [
    "## VISUALIZATION"
   ]
  },
  {
   "cell_type": "code",
   "execution_count": null,
   "metadata": {},
   "outputs": [],
   "source": [
    "'''\n",
    "    Because wqchartpy and plt.savefig() automatically generate the plot image files within the current directory as part of the module code, the following function is needed to push \n",
    "    them to our images folder as they're generated to keep our file structure organized automatically. A function was created since this will be used repeatedly.\n",
    "'''\n",
    "\n",
    "def move_image_file_to_images_folder(image_file_name):\n",
    "    current_directory = os.getcwd()\n",
    "    parent_directory = os.path.dirname(current_directory)\n",
    "    current_file_path = os.path.join(parent_directory, 'notebooks', image_file_name)\n",
    "    image_folder_path = os.path.join(parent_directory, 'images')\n",
    "    new_file_path = os.path.join(image_folder_path, image_file_name)\n",
    "\n",
    "    # Check if the images folder exists; if not, it gets created\n",
    "    if not os.path.exists(image_folder_path):\n",
    "        os.makedirs(image_folder_path)\n",
    "\n",
    "    # Check if a file with the same name already exists in the destination folder; if so ask user what to do: override with or without deleting the newly generated image\n",
    "    if os.path.exists(new_file_path):\n",
    "        user_input = input(f\"A file with the name '{image_file_name}' already exists in 'images' folder. Do you want to override it? (y/n): \").lower()\n",
    "        if user_input != 'y':\n",
    "            user_input = input(f'Do you want to delete the newly generated image file? (y/n): ').lower()\n",
    "            if user_input == 'y':\n",
    "                os.remove(current_file_path)\n",
    "                print('File deleted.')\n",
    "                return\n",
    "            else:\n",
    "                print(f'File not deleted. It is located in {current_directory}.')\n",
    "            print(f'File not moved to images folder. It is located in {current_directory}.')\n",
    "            return\n",
    "\n",
    "    # Move the file to the destination folder\n",
    "    new_file_path = os.path.join(image_folder_path, image_file_name)\n",
    "    os.rename(current_file_path, new_file_path)\n",
    "\n",
    "    print(f\"File '{image_file_name}' moved to 'images' folder.\")"
   ]
  },
  {
   "cell_type": "markdown",
   "metadata": {},
   "source": [
    "### Piper Plots"
   ]
  },
  {
   "cell_type": "code",
   "execution_count": null,
   "metadata": {},
   "outputs": [],
   "source": []
  },
  {
   "cell_type": "markdown",
   "metadata": {},
   "source": [
    "### Geo Plots"
   ]
  },
  {
   "cell_type": "code",
   "execution_count": null,
   "metadata": {},
   "outputs": [],
   "source": []
  }
 ],
 "metadata": {
  "kernelspec": {
   "display_name": "base",
   "language": "python",
   "name": "python3"
  },
  "language_info": {
   "codemirror_mode": {
    "name": "ipython",
    "version": 3
   },
   "file_extension": ".py",
   "mimetype": "text/x-python",
   "name": "python",
   "nbconvert_exporter": "python",
   "pygments_lexer": "ipython3",
   "version": "3.11.5"
  }
 },
 "nbformat": 4,
 "nbformat_minor": 2
}
